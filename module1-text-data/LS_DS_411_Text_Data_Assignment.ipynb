{
 "cells": [
  {
   "cell_type": "markdown",
   "metadata": {},
   "source": [
    "<img align=\"left\" src=\"https://lever-client-logos.s3.amazonaws.com/864372b1-534c-480e-acd5-9711f850815c-1524247202159.png\" width=200>\n",
    "<br></br>\n",
    "<br></br>\n",
    "\n",
    "# Natural Language Processing (NLP)\n",
    "## *Data Science Unit 4 Sprint 1 Assignment 1*\n",
    "\n",
    "Your goal in this assignment: find the attributes of the best & worst coffee shops in the dataset. The text is fairly raw: dates in the review, extra words in the `star_rating` column, etc. You'll probably want to clean that stuff up for a better analysis. \n",
    "\n",
    "Analyze the corpus of text using text visualizations of token frequency. Try cleaning the data as much as possible. Try the following techniques: \n",
    "- Lemmatization\n",
    "- Custom stopword removal\n",
    "\n",
    "Keep in mind the attributes of good tokens. Once you have a solid baseline, layer in the star rating in your visualization(s). Key part of this assignment - produce a write-up of the attributes of the best and worst coffee shops. Based on your analysis, what makes the best the best and the worst the worst. Use graphs and numbesr from your analysis to support your conclusions. There should be plenty of markdown cells! :coffee:"
   ]
  },
  {
   "cell_type": "code",
   "execution_count": 1,
   "metadata": {},
   "outputs": [
    {
     "data": {
      "image/jpeg": "[encoded data removed]",
      "text/html": [
       "\n",
       "        <iframe\n",
       "            width=\"400\"\n",
       "            height=\"300\"\n",
       "            src=\"https://www.youtube.com/embed/Jml7NVYm8cs\"\n",
       "            frameborder=\"0\"\n",
       "            allowfullscreen\n",
       "        ></iframe>\n",
       "        "
      ],
      "text/plain": [
       "<IPython.lib.display.YouTubeVideo at 0x104043dd8>"
      ]
     },
     "execution_count": 1,
     "metadata": {},
     "output_type": "execute_result"
    }
   ],
   "source": [
    "from IPython.display import YouTubeVideo\n",
    "\n",
    "YouTubeVideo('Jml7NVYm8cs')"
   ]
  },
  {
   "cell_type": "code",
   "execution_count": 2,
   "metadata": {},
   "outputs": [
    {
     "data": {
      "text/plain": [
       "'/Users/faraazqureshi/repos/DS-Unit-4-Sprint-1-NLP/module1-text-data'"
      ]
     },
     "execution_count": 2,
     "metadata": {},
     "output_type": "execute_result"
    }
   ],
   "source": [
    "%pwd"
   ]
  },
  {
   "cell_type": "code",
   "execution_count": 3,
   "metadata": {},
   "outputs": [
    {
     "data": {
      "text/html": [
       "<div>\n",
       "<style scoped>\n",
       "    .dataframe tbody tr th:only-of-type {\n",
       "        vertical-align: middle;\n",
       "    }\n",
       "\n",
       "    .dataframe tbody tr th {\n",
       "        vertical-align: top;\n",
       "    }\n",
       "\n",
       "    .dataframe thead th {\n",
       "        text-align: right;\n",
       "    }\n",
       "</style>\n",
       "<table border=\"1\" class=\"dataframe\">\n",
       "  <thead>\n",
       "    <tr style=\"text-align: right;\">\n",
       "      <th></th>\n",
       "      <th>coffee_shop_name</th>\n",
       "      <th>full_review_text</th>\n",
       "      <th>star_rating</th>\n",
       "    </tr>\n",
       "  </thead>\n",
       "  <tbody>\n",
       "    <tr>\n",
       "      <th>0</th>\n",
       "      <td>The Factory - Cafe With a Soul</td>\n",
       "      <td>11/25/2016 1 check-in Love love loved the atm...</td>\n",
       "      <td>5.0 star rating</td>\n",
       "    </tr>\n",
       "    <tr>\n",
       "      <th>1</th>\n",
       "      <td>The Factory - Cafe With a Soul</td>\n",
       "      <td>12/2/2016 Listed in Date Night: Austin, Ambia...</td>\n",
       "      <td>4.0 star rating</td>\n",
       "    </tr>\n",
       "    <tr>\n",
       "      <th>2</th>\n",
       "      <td>The Factory - Cafe With a Soul</td>\n",
       "      <td>11/30/2016 1 check-in Listed in Brunch Spots ...</td>\n",
       "      <td>4.0 star rating</td>\n",
       "    </tr>\n",
       "    <tr>\n",
       "      <th>3</th>\n",
       "      <td>The Factory - Cafe With a Soul</td>\n",
       "      <td>11/25/2016 Very cool decor! Good drinks Nice ...</td>\n",
       "      <td>2.0 star rating</td>\n",
       "    </tr>\n",
       "    <tr>\n",
       "      <th>4</th>\n",
       "      <td>The Factory - Cafe With a Soul</td>\n",
       "      <td>12/3/2016 1 check-in They are located within ...</td>\n",
       "      <td>4.0 star rating</td>\n",
       "    </tr>\n",
       "  </tbody>\n",
       "</table>\n",
       "</div>"
      ],
      "text/plain": [
       "                  coffee_shop_name  \\\n",
       "0  The Factory - Cafe With a Soul    \n",
       "1  The Factory - Cafe With a Soul    \n",
       "2  The Factory - Cafe With a Soul    \n",
       "3  The Factory - Cafe With a Soul    \n",
       "4  The Factory - Cafe With a Soul    \n",
       "\n",
       "                                    full_review_text        star_rating  \n",
       "0   11/25/2016 1 check-in Love love loved the atm...   5.0 star rating   \n",
       "1   12/2/2016 Listed in Date Night: Austin, Ambia...   4.0 star rating   \n",
       "2   11/30/2016 1 check-in Listed in Brunch Spots ...   4.0 star rating   \n",
       "3   11/25/2016 Very cool decor! Good drinks Nice ...   2.0 star rating   \n",
       "4   12/3/2016 1 check-in They are located within ...   4.0 star rating   "
      ]
     },
     "execution_count": 3,
     "metadata": {},
     "output_type": "execute_result"
    }
   ],
   "source": [
    "import pandas as pd\n",
    "\n",
    "url = \"https://raw.githubusercontent.com/LambdaSchool/DS-Unit-4-Sprint-1-NLP/master/module1-text-data/data/yelp_coffeeshop_review_data.csv\"\n",
    "\n",
    "shops = pd.read_csv(url)\n",
    "shops.head()"
   ]
  },
  {
   "cell_type": "code",
   "execution_count": 5,
   "metadata": {},
   "outputs": [
    {
     "data": {
      "text/plain": [
       "(7616, 3)"
      ]
     },
     "execution_count": 5,
     "metadata": {},
     "output_type": "execute_result"
    }
   ],
   "source": [
    "## assign the shops dataframe as df\n",
    "df = shops\n",
    "\n",
    "## check how many reviews\n",
    "df.shape"
   ]
  },
  {
   "cell_type": "markdown",
   "metadata": {},
   "source": [
    "## How do we want to analyze these coffee shop tokens? \n",
    "\n",
    "- Overall Word / Token Count\n",
    "- View Counts by Rating \n",
    "- *Hint:* a 'bad' coffee shops has a rating betweeen 1 & 3 based on the distribution of ratings. A 'good' coffee shop is a 4 or 5. "
   ]
  },
  {
   "cell_type": "markdown",
   "metadata": {},
   "source": [
    "### Token count per review"
   ]
  },
  {
   "cell_type": "code",
   "execution_count": 6,
   "metadata": {},
   "outputs": [],
   "source": [
    "## import library\n",
    "import spacy"
   ]
  },
  {
   "cell_type": "code",
   "execution_count": 7,
   "metadata": {},
   "outputs": [],
   "source": [
    "## upload our model\n",
    "nlp = spacy.load(\"en_core_web_lg\")"
   ]
  },
  {
   "cell_type": "code",
   "execution_count": 13,
   "metadata": {},
   "outputs": [],
   "source": [
    "## Tokenization\n",
    "df['doc'] = [nlp(text) for text in df.full_review_text]"
   ]
  },
  {
   "cell_type": "code",
   "execution_count": 14,
   "metadata": {},
   "outputs": [
    {
     "data": {
      "text/html": [
       "<div>\n",
       "<style scoped>\n",
       "    .dataframe tbody tr th:only-of-type {\n",
       "        vertical-align: middle;\n",
       "    }\n",
       "\n",
       "    .dataframe tbody tr th {\n",
       "        vertical-align: top;\n",
       "    }\n",
       "\n",
       "    .dataframe thead th {\n",
       "        text-align: right;\n",
       "    }\n",
       "</style>\n",
       "<table border=\"1\" class=\"dataframe\">\n",
       "  <thead>\n",
       "    <tr style=\"text-align: right;\">\n",
       "      <th></th>\n",
       "      <th>coffee_shop_name</th>\n",
       "      <th>full_review_text</th>\n",
       "      <th>star_rating</th>\n",
       "      <th>doc</th>\n",
       "    </tr>\n",
       "  </thead>\n",
       "  <tbody>\n",
       "    <tr>\n",
       "      <th>0</th>\n",
       "      <td>The Factory - Cafe With a Soul</td>\n",
       "      <td>11/25/2016 1 check-in Love love loved the atm...</td>\n",
       "      <td>5.0 star rating</td>\n",
       "      <td>( , 11/25/2016, 1, check, -, in, Love, love, l...</td>\n",
       "    </tr>\n",
       "    <tr>\n",
       "      <th>1</th>\n",
       "      <td>The Factory - Cafe With a Soul</td>\n",
       "      <td>12/2/2016 Listed in Date Night: Austin, Ambia...</td>\n",
       "      <td>4.0 star rating</td>\n",
       "      <td>( , 12/2/2016, Listed, in, Date, Night, :, Aus...</td>\n",
       "    </tr>\n",
       "    <tr>\n",
       "      <th>2</th>\n",
       "      <td>The Factory - Cafe With a Soul</td>\n",
       "      <td>11/30/2016 1 check-in Listed in Brunch Spots ...</td>\n",
       "      <td>4.0 star rating</td>\n",
       "      <td>( , 11/30/2016, 1, check, -, in, Listed, in, B...</td>\n",
       "    </tr>\n",
       "    <tr>\n",
       "      <th>3</th>\n",
       "      <td>The Factory - Cafe With a Soul</td>\n",
       "      <td>11/25/2016 Very cool decor! Good drinks Nice ...</td>\n",
       "      <td>2.0 star rating</td>\n",
       "      <td>( , 11/25/2016, Very, cool, decor, !, Good, dr...</td>\n",
       "    </tr>\n",
       "    <tr>\n",
       "      <th>4</th>\n",
       "      <td>The Factory - Cafe With a Soul</td>\n",
       "      <td>12/3/2016 1 check-in They are located within ...</td>\n",
       "      <td>4.0 star rating</td>\n",
       "      <td>( , 12/3/2016, 1, check, -, in, They, are, loc...</td>\n",
       "    </tr>\n",
       "  </tbody>\n",
       "</table>\n",
       "</div>"
      ],
      "text/plain": [
       "                  coffee_shop_name  \\\n",
       "0  The Factory - Cafe With a Soul    \n",
       "1  The Factory - Cafe With a Soul    \n",
       "2  The Factory - Cafe With a Soul    \n",
       "3  The Factory - Cafe With a Soul    \n",
       "4  The Factory - Cafe With a Soul    \n",
       "\n",
       "                                    full_review_text        star_rating  \\\n",
       "0   11/25/2016 1 check-in Love love loved the atm...   5.0 star rating    \n",
       "1   12/2/2016 Listed in Date Night: Austin, Ambia...   4.0 star rating    \n",
       "2   11/30/2016 1 check-in Listed in Brunch Spots ...   4.0 star rating    \n",
       "3   11/25/2016 Very cool decor! Good drinks Nice ...   2.0 star rating    \n",
       "4   12/3/2016 1 check-in They are located within ...   4.0 star rating    \n",
       "\n",
       "                                                 doc  \n",
       "0  ( , 11/25/2016, 1, check, -, in, Love, love, l...  \n",
       "1  ( , 12/2/2016, Listed, in, Date, Night, :, Aus...  \n",
       "2  ( , 11/30/2016, 1, check, -, in, Listed, in, B...  \n",
       "3  ( , 11/25/2016, Very, cool, decor, !, Good, dr...  \n",
       "4  ( , 12/3/2016, 1, check, -, in, They, are, loc...  "
      ]
     },
     "execution_count": 14,
     "metadata": {},
     "output_type": "execute_result"
    }
   ],
   "source": [
    "## check if it worked\n",
    "df.head()"
   ]
  },
  {
   "cell_type": "code",
   "execution_count": 15,
   "metadata": {},
   "outputs": [
    {
     "name": "stderr",
     "output_type": "stream",
     "text": [
      "/opt/anaconda3/envs/U4-S1-NLP/lib/python3.7/site-packages/scipy/stats/stats.py:1713: FutureWarning: Using a non-tuple sequence for multidimensional indexing is deprecated; use `arr[tuple(seq)]` instead of `arr[seq]`. In the future this will be interpreted as an array index, `arr[np.array(seq)]`, which will result either in an error or a different result.\n",
      "  return np.add.reduce(sorted[indexer] * weights, axis=axis) / sumval\n"
     ]
    },
    {
     "data": {
      "image/png": "[encoded data removed]",
      "text/plain": [
       "<Figure size 432x288 with 1 Axes>"
      ]
     },
     "metadata": {
      "needs_background": "light"
     },
     "output_type": "display_data"
    }
   ],
   "source": [
    "## import library for visualization\n",
    "import seaborn as sns\n",
    "\n",
    "## make a new column with total number of tokens in the row\n",
    "df['num_tokens'] = [len(token) for token in df.doc]\n",
    "\n",
    "## visualize number of tokens \n",
    "g = sns.distplot(df.num_tokens)"
   ]
  },
  {
   "cell_type": "code",
   "execution_count": 39,
   "metadata": {},
   "outputs": [
    {
     "data": {
      "text/html": [
       "<div>\n",
       "<style scoped>\n",
       "    .dataframe tbody tr th:only-of-type {\n",
       "        vertical-align: middle;\n",
       "    }\n",
       "\n",
       "    .dataframe tbody tr th {\n",
       "        vertical-align: top;\n",
       "    }\n",
       "\n",
       "    .dataframe thead th {\n",
       "        text-align: right;\n",
       "    }\n",
       "</style>\n",
       "<table border=\"1\" class=\"dataframe\">\n",
       "  <thead>\n",
       "    <tr style=\"text-align: right;\">\n",
       "      <th></th>\n",
       "      <th>coffee_shop_name</th>\n",
       "      <th>full_review_text</th>\n",
       "      <th>star_rating</th>\n",
       "      <th>doc</th>\n",
       "      <th>num_tokens</th>\n",
       "      <th>doc_rating</th>\n",
       "    </tr>\n",
       "  </thead>\n",
       "  <tbody>\n",
       "    <tr>\n",
       "      <th>0</th>\n",
       "      <td>The Factory - Cafe With a Soul</td>\n",
       "      <td>11/25/2016 1 check-in Love love loved the atm...</td>\n",
       "      <td>5.0 star rating</td>\n",
       "      <td>( , 11/25/2016, 1, check, -, in, Love, love, l...</td>\n",
       "      <td>118</td>\n",
       "      <td>5.0 star rating</td>\n",
       "    </tr>\n",
       "    <tr>\n",
       "      <th>1</th>\n",
       "      <td>The Factory - Cafe With a Soul</td>\n",
       "      <td>12/2/2016 Listed in Date Night: Austin, Ambia...</td>\n",
       "      <td>4.0 star rating</td>\n",
       "      <td>( , 12/2/2016, Listed, in, Date, Night, :, Aus...</td>\n",
       "      <td>73</td>\n",
       "      <td>4.0 star rating</td>\n",
       "    </tr>\n",
       "    <tr>\n",
       "      <th>2</th>\n",
       "      <td>The Factory - Cafe With a Soul</td>\n",
       "      <td>11/30/2016 1 check-in Listed in Brunch Spots ...</td>\n",
       "      <td>4.0 star rating</td>\n",
       "      <td>( , 11/30/2016, 1, check, -, in, Listed, in, B...</td>\n",
       "      <td>279</td>\n",
       "      <td>4.0 star rating</td>\n",
       "    </tr>\n",
       "    <tr>\n",
       "      <th>3</th>\n",
       "      <td>The Factory - Cafe With a Soul</td>\n",
       "      <td>11/25/2016 Very cool decor! Good drinks Nice ...</td>\n",
       "      <td>2.0 star rating</td>\n",
       "      <td>( , 11/25/2016, Very, cool, decor, !, Good, dr...</td>\n",
       "      <td>83</td>\n",
       "      <td>2.0 star rating</td>\n",
       "    </tr>\n",
       "    <tr>\n",
       "      <th>4</th>\n",
       "      <td>The Factory - Cafe With a Soul</td>\n",
       "      <td>12/3/2016 1 check-in They are located within ...</td>\n",
       "      <td>4.0 star rating</td>\n",
       "      <td>( , 12/3/2016, 1, check, -, in, They, are, loc...</td>\n",
       "      <td>131</td>\n",
       "      <td>4.0 star rating</td>\n",
       "    </tr>\n",
       "  </tbody>\n",
       "</table>\n",
       "</div>"
      ],
      "text/plain": [
       "                  coffee_shop_name  \\\n",
       "0  The Factory - Cafe With a Soul    \n",
       "1  The Factory - Cafe With a Soul    \n",
       "2  The Factory - Cafe With a Soul    \n",
       "3  The Factory - Cafe With a Soul    \n",
       "4  The Factory - Cafe With a Soul    \n",
       "\n",
       "                                    full_review_text        star_rating  \\\n",
       "0   11/25/2016 1 check-in Love love loved the atm...   5.0 star rating    \n",
       "1   12/2/2016 Listed in Date Night: Austin, Ambia...   4.0 star rating    \n",
       "2   11/30/2016 1 check-in Listed in Brunch Spots ...   4.0 star rating    \n",
       "3   11/25/2016 Very cool decor! Good drinks Nice ...   2.0 star rating    \n",
       "4   12/3/2016 1 check-in They are located within ...   4.0 star rating    \n",
       "\n",
       "                                                 doc  num_tokens  \\\n",
       "0  ( , 11/25/2016, 1, check, -, in, Love, love, l...         118   \n",
       "1  ( , 12/2/2016, Listed, in, Date, Night, :, Aus...          73   \n",
       "2  ( , 11/30/2016, 1, check, -, in, Listed, in, B...         279   \n",
       "3  ( , 11/25/2016, Very, cool, decor, !, Good, dr...          83   \n",
       "4  ( , 12/3/2016, 1, check, -, in, They, are, loc...         131   \n",
       "\n",
       "          doc_rating  \n",
       "0   5.0 star rating   \n",
       "1   4.0 star rating   \n",
       "2   4.0 star rating   \n",
       "3   2.0 star rating   \n",
       "4   4.0 star rating   "
      ]
     },
     "execution_count": 39,
     "metadata": {},
     "output_type": "execute_result"
    }
   ],
   "source": [
    "df.head()"
   ]
  },
  {
   "cell_type": "code",
   "execution_count": 46,
   "metadata": {},
   "outputs": [],
   "source": [
    "## lowercase everything in the review text\n",
    "df['full_review_text'] = df['full_review_text'].map(lambda x: x.lower())\n"
   ]
  },
  {
   "cell_type": "code",
   "execution_count": 47,
   "metadata": {},
   "outputs": [],
   "source": [
    "## strip leading whitespace\n",
    "df['full_review_text'] = df['full_review_text'].map(lambda x: x.strip())"
   ]
  },
  {
   "cell_type": "code",
   "execution_count": 51,
   "metadata": {},
   "outputs": [],
   "source": [
    "## looks like I have dates and other less than useful numbers\n",
    "import re\n",
    "df['full_review_text'] = df['full_review_text'].map((lambda x : re.sub(\"[^a-z\\s]\",\"\",x) ))"
   ]
  },
  {
   "cell_type": "code",
   "execution_count": 57,
   "metadata": {},
   "outputs": [],
   "source": [
    "import nltk"
   ]
  },
  {
   "cell_type": "code",
   "execution_count": 59,
   "metadata": {},
   "outputs": [
    {
     "name": "stdout",
     "output_type": "stream",
     "text": [
      "showing info https://raw.githubusercontent.com/nltk/nltk_data/gh-pages/index.xml\n"
     ]
    },
    {
     "data": {
      "text/plain": [
       "True"
      ]
     },
     "execution_count": 59,
     "metadata": {},
     "output_type": "execute_result"
    }
   ],
   "source": [
    "nltk.download()"
   ]
  },
  {
   "cell_type": "code",
   "execution_count": 61,
   "metadata": {},
   "outputs": [],
   "source": [
    "from nltk.corpus import stopwords\n",
    "stopwords = set(stopwords.words(\"english\"))\n",
    "df['full_review_text'] = df['full_review_text'].apply(lambda x : \" \".join(word for word in x.split() if word not in stopwords ))"
   ]
  },
  {
   "cell_type": "code",
   "execution_count": 62,
   "metadata": {},
   "outputs": [
    {
     "data": {
      "text/html": [
       "<div>\n",
       "<style scoped>\n",
       "    .dataframe tbody tr th:only-of-type {\n",
       "        vertical-align: middle;\n",
       "    }\n",
       "\n",
       "    .dataframe tbody tr th {\n",
       "        vertical-align: top;\n",
       "    }\n",
       "\n",
       "    .dataframe thead th {\n",
       "        text-align: right;\n",
       "    }\n",
       "</style>\n",
       "<table border=\"1\" class=\"dataframe\">\n",
       "  <thead>\n",
       "    <tr style=\"text-align: right;\">\n",
       "      <th></th>\n",
       "      <th>coffee_shop_name</th>\n",
       "      <th>full_review_text</th>\n",
       "      <th>star_rating</th>\n",
       "      <th>doc</th>\n",
       "      <th>num_tokens</th>\n",
       "      <th>doc_rating</th>\n",
       "    </tr>\n",
       "  </thead>\n",
       "  <tbody>\n",
       "    <tr>\n",
       "      <th>0</th>\n",
       "      <td>The Factory - Cafe With a Soul</td>\n",
       "      <td>checkin love love loved atmosphere every corne...</td>\n",
       "      <td>5.0 star rating</td>\n",
       "      <td>( , 11/25/2016, 1, check, -, in, Love, love, l...</td>\n",
       "      <td>118</td>\n",
       "      <td>5.0 star rating</td>\n",
       "    </tr>\n",
       "    <tr>\n",
       "      <th>1</th>\n",
       "      <td>The Factory - Cafe With a Soul</td>\n",
       "      <td>listed date night austin ambiance austin beaut...</td>\n",
       "      <td>4.0 star rating</td>\n",
       "      <td>( , 12/2/2016, Listed, in, Date, Night, :, Aus...</td>\n",
       "      <td>73</td>\n",
       "      <td>4.0 star rating</td>\n",
       "    </tr>\n",
       "    <tr>\n",
       "      <th>2</th>\n",
       "      <td>The Factory - Cafe With a Soul</td>\n",
       "      <td>checkin listed brunch spots loved eclectic hom...</td>\n",
       "      <td>4.0 star rating</td>\n",
       "      <td>( , 11/30/2016, 1, check, -, in, Listed, in, B...</td>\n",
       "      <td>279</td>\n",
       "      <td>4.0 star rating</td>\n",
       "    </tr>\n",
       "    <tr>\n",
       "      <th>3</th>\n",
       "      <td>The Factory - Cafe With a Soul</td>\n",
       "      <td>cool decor good drinks nice seating however ev...</td>\n",
       "      <td>2.0 star rating</td>\n",
       "      <td>( , 11/25/2016, Very, cool, decor, !, Good, dr...</td>\n",
       "      <td>83</td>\n",
       "      <td>2.0 star rating</td>\n",
       "    </tr>\n",
       "    <tr>\n",
       "      <th>4</th>\n",
       "      <td>The Factory - Cafe With a Soul</td>\n",
       "      <td>checkin located within northcross mall shoppin...</td>\n",
       "      <td>4.0 star rating</td>\n",
       "      <td>( , 12/3/2016, 1, check, -, in, They, are, loc...</td>\n",
       "      <td>131</td>\n",
       "      <td>4.0 star rating</td>\n",
       "    </tr>\n",
       "  </tbody>\n",
       "</table>\n",
       "</div>"
      ],
      "text/plain": [
       "                  coffee_shop_name  \\\n",
       "0  The Factory - Cafe With a Soul    \n",
       "1  The Factory - Cafe With a Soul    \n",
       "2  The Factory - Cafe With a Soul    \n",
       "3  The Factory - Cafe With a Soul    \n",
       "4  The Factory - Cafe With a Soul    \n",
       "\n",
       "                                    full_review_text        star_rating  \\\n",
       "0  checkin love love loved atmosphere every corne...   5.0 star rating    \n",
       "1  listed date night austin ambiance austin beaut...   4.0 star rating    \n",
       "2  checkin listed brunch spots loved eclectic hom...   4.0 star rating    \n",
       "3  cool decor good drinks nice seating however ev...   2.0 star rating    \n",
       "4  checkin located within northcross mall shoppin...   4.0 star rating    \n",
       "\n",
       "                                                 doc  num_tokens  \\\n",
       "0  ( , 11/25/2016, 1, check, -, in, Love, love, l...         118   \n",
       "1  ( , 12/2/2016, Listed, in, Date, Night, :, Aus...          73   \n",
       "2  ( , 11/30/2016, 1, check, -, in, Listed, in, B...         279   \n",
       "3  ( , 11/25/2016, Very, cool, decor, !, Good, dr...          83   \n",
       "4  ( , 12/3/2016, 1, check, -, in, They, are, loc...         131   \n",
       "\n",
       "          doc_rating  \n",
       "0   5.0 star rating   \n",
       "1   4.0 star rating   \n",
       "2   4.0 star rating   \n",
       "3   2.0 star rating   \n",
       "4   4.0 star rating   "
      ]
     },
     "execution_count": 62,
     "metadata": {},
     "output_type": "execute_result"
    }
   ],
   "source": [
    "df.head()"
   ]
  },
  {
   "cell_type": "code",
   "execution_count": 63,
   "metadata": {},
   "outputs": [],
   "source": [
    "## Redo Tokenization on cleaned column\n",
    "df['doc'] = [nlp(text) for text in df.full_review_text]"
   ]
  },
  {
   "cell_type": "code",
   "execution_count": 64,
   "metadata": {},
   "outputs": [
    {
     "name": "stderr",
     "output_type": "stream",
     "text": [
      "/opt/anaconda3/envs/U4-S1-NLP/lib/python3.7/site-packages/scipy/stats/stats.py:1713: FutureWarning: Using a non-tuple sequence for multidimensional indexing is deprecated; use `arr[tuple(seq)]` instead of `arr[seq]`. In the future this will be interpreted as an array index, `arr[np.array(seq)]`, which will result either in an error or a different result.\n",
      "  return np.add.reduce(sorted[indexer] * weights, axis=axis) / sumval\n"
     ]
    },
    {
     "data": {
      "image/png": "[encoded data removed]",
      "text/plain": [
       "<Figure size 432x288 with 1 Axes>"
      ]
     },
     "metadata": {
      "needs_background": "light"
     },
     "output_type": "display_data"
    }
   ],
   "source": [
    "## update num_tokens and re-graph\n",
    "df['num_tokens'] = [len(token) for token in df.doc]\n",
    "\n",
    "## visualize number of tokens \n",
    "g = sns.distplot(df.num_tokens)"
   ]
  },
  {
   "cell_type": "markdown",
   "metadata": {},
   "source": [
    "### Work on the rating "
   ]
  },
  {
   "cell_type": "code",
   "execution_count": 77,
   "metadata": {},
   "outputs": [],
   "source": [
    "## remove whitespace\n",
    "df['star_rating'] = df['star_rating'].map(lambda x: x.strip())"
   ]
  },
  {
   "cell_type": "code",
   "execution_count": 82,
   "metadata": {},
   "outputs": [
    {
     "data": {
      "text/plain": [
       "'5.0'"
      ]
     },
     "execution_count": 82,
     "metadata": {},
     "output_type": "execute_result"
    }
   ],
   "source": [
    "## select just the number part\n",
    "df['star_rating'][0].split()[0]"
   ]
  },
  {
   "cell_type": "code",
   "execution_count": 84,
   "metadata": {},
   "outputs": [
    {
     "data": {
      "text/html": [
       "<div>\n",
       "<style scoped>\n",
       "    .dataframe tbody tr th:only-of-type {\n",
       "        vertical-align: middle;\n",
       "    }\n",
       "\n",
       "    .dataframe tbody tr th {\n",
       "        vertical-align: top;\n",
       "    }\n",
       "\n",
       "    .dataframe thead th {\n",
       "        text-align: right;\n",
       "    }\n",
       "</style>\n",
       "<table border=\"1\" class=\"dataframe\">\n",
       "  <thead>\n",
       "    <tr style=\"text-align: right;\">\n",
       "      <th></th>\n",
       "      <th>coffee_shop_name</th>\n",
       "      <th>full_review_text</th>\n",
       "      <th>star_rating</th>\n",
       "      <th>doc</th>\n",
       "      <th>num_tokens</th>\n",
       "      <th>doc_rating</th>\n",
       "    </tr>\n",
       "  </thead>\n",
       "  <tbody>\n",
       "    <tr>\n",
       "      <th>0</th>\n",
       "      <td>The Factory - Cafe With a Soul</td>\n",
       "      <td>checkin love love loved atmosphere every corne...</td>\n",
       "      <td>5.0</td>\n",
       "      <td>(checkin, love, love, loved, atmosphere, every...</td>\n",
       "      <td>49</td>\n",
       "      <td>5.0 star rating</td>\n",
       "    </tr>\n",
       "    <tr>\n",
       "      <th>1</th>\n",
       "      <td>The Factory - Cafe With a Soul</td>\n",
       "      <td>listed date night austin ambiance austin beaut...</td>\n",
       "      <td>4.0</td>\n",
       "      <td>(listed, date, night, austin, ambiance, austin...</td>\n",
       "      <td>26</td>\n",
       "      <td>4.0 star rating</td>\n",
       "    </tr>\n",
       "    <tr>\n",
       "      <th>2</th>\n",
       "      <td>The Factory - Cafe With a Soul</td>\n",
       "      <td>checkin listed brunch spots loved eclectic hom...</td>\n",
       "      <td>4.0</td>\n",
       "      <td>(checkin, listed, brunch, spots, loved, eclect...</td>\n",
       "      <td>118</td>\n",
       "      <td>4.0 star rating</td>\n",
       "    </tr>\n",
       "    <tr>\n",
       "      <th>3</th>\n",
       "      <td>The Factory - Cafe With a Soul</td>\n",
       "      <td>cool decor good drinks nice seating however ev...</td>\n",
       "      <td>2.0</td>\n",
       "      <td>(cool, decor, good, drinks, nice, seating, how...</td>\n",
       "      <td>39</td>\n",
       "      <td>2.0 star rating</td>\n",
       "    </tr>\n",
       "    <tr>\n",
       "      <th>4</th>\n",
       "      <td>The Factory - Cafe With a Soul</td>\n",
       "      <td>checkin located within northcross mall shoppin...</td>\n",
       "      <td>4.0</td>\n",
       "      <td>(checkin, located, within, northcross, mall, s...</td>\n",
       "      <td>68</td>\n",
       "      <td>4.0 star rating</td>\n",
       "    </tr>\n",
       "  </tbody>\n",
       "</table>\n",
       "</div>"
      ],
      "text/plain": [
       "                  coffee_shop_name  \\\n",
       "0  The Factory - Cafe With a Soul    \n",
       "1  The Factory - Cafe With a Soul    \n",
       "2  The Factory - Cafe With a Soul    \n",
       "3  The Factory - Cafe With a Soul    \n",
       "4  The Factory - Cafe With a Soul    \n",
       "\n",
       "                                    full_review_text star_rating  \\\n",
       "0  checkin love love loved atmosphere every corne...         5.0   \n",
       "1  listed date night austin ambiance austin beaut...         4.0   \n",
       "2  checkin listed brunch spots loved eclectic hom...         4.0   \n",
       "3  cool decor good drinks nice seating however ev...         2.0   \n",
       "4  checkin located within northcross mall shoppin...         4.0   \n",
       "\n",
       "                                                 doc  num_tokens  \\\n",
       "0  (checkin, love, love, loved, atmosphere, every...          49   \n",
       "1  (listed, date, night, austin, ambiance, austin...          26   \n",
       "2  (checkin, listed, brunch, spots, loved, eclect...         118   \n",
       "3  (cool, decor, good, drinks, nice, seating, how...          39   \n",
       "4  (checkin, located, within, northcross, mall, s...          68   \n",
       "\n",
       "          doc_rating  \n",
       "0   5.0 star rating   \n",
       "1   4.0 star rating   \n",
       "2   4.0 star rating   \n",
       "3   2.0 star rating   \n",
       "4   4.0 star rating   "
      ]
     },
     "execution_count": 84,
     "metadata": {},
     "output_type": "execute_result"
    }
   ],
   "source": [
    "## select number part for entire column\n",
    "df['star_rating'] = df['star_rating'].str.split().str[0].str.strip()\n",
    "df.head()"
   ]
  },
  {
   "cell_type": "code",
   "execution_count": 85,
   "metadata": {},
   "outputs": [],
   "source": [
    "## Tokenize rating\n",
    "df['rating_tokens'] = [nlp(text) for text in df.star_rating]"
   ]
  },
  {
   "cell_type": "code",
   "execution_count": 88,
   "metadata": {},
   "outputs": [
    {
     "data": {
      "text/html": [
       "<div>\n",
       "<style scoped>\n",
       "    .dataframe tbody tr th:only-of-type {\n",
       "        vertical-align: middle;\n",
       "    }\n",
       "\n",
       "    .dataframe tbody tr th {\n",
       "        vertical-align: top;\n",
       "    }\n",
       "\n",
       "    .dataframe thead th {\n",
       "        text-align: right;\n",
       "    }\n",
       "</style>\n",
       "<table border=\"1\" class=\"dataframe\">\n",
       "  <thead>\n",
       "    <tr style=\"text-align: right;\">\n",
       "      <th></th>\n",
       "      <th>coffee_shop_name</th>\n",
       "      <th>full_review_text</th>\n",
       "      <th>star_rating</th>\n",
       "      <th>doc</th>\n",
       "      <th>num_tokens</th>\n",
       "      <th>doc_rating</th>\n",
       "      <th>rating_tokens</th>\n",
       "    </tr>\n",
       "  </thead>\n",
       "  <tbody>\n",
       "    <tr>\n",
       "      <th>0</th>\n",
       "      <td>The Factory - Cafe With a Soul</td>\n",
       "      <td>checkin love love loved atmosphere every corne...</td>\n",
       "      <td>5.0</td>\n",
       "      <td>(checkin, love, love, loved, atmosphere, every...</td>\n",
       "      <td>49</td>\n",
       "      <td>5.0 star rating</td>\n",
       "      <td>(5.0)</td>\n",
       "    </tr>\n",
       "    <tr>\n",
       "      <th>1</th>\n",
       "      <td>The Factory - Cafe With a Soul</td>\n",
       "      <td>listed date night austin ambiance austin beaut...</td>\n",
       "      <td>4.0</td>\n",
       "      <td>(listed, date, night, austin, ambiance, austin...</td>\n",
       "      <td>26</td>\n",
       "      <td>4.0 star rating</td>\n",
       "      <td>(4.0)</td>\n",
       "    </tr>\n",
       "    <tr>\n",
       "      <th>2</th>\n",
       "      <td>The Factory - Cafe With a Soul</td>\n",
       "      <td>checkin listed brunch spots loved eclectic hom...</td>\n",
       "      <td>4.0</td>\n",
       "      <td>(checkin, listed, brunch, spots, loved, eclect...</td>\n",
       "      <td>118</td>\n",
       "      <td>4.0 star rating</td>\n",
       "      <td>(4.0)</td>\n",
       "    </tr>\n",
       "    <tr>\n",
       "      <th>3</th>\n",
       "      <td>The Factory - Cafe With a Soul</td>\n",
       "      <td>cool decor good drinks nice seating however ev...</td>\n",
       "      <td>2.0</td>\n",
       "      <td>(cool, decor, good, drinks, nice, seating, how...</td>\n",
       "      <td>39</td>\n",
       "      <td>2.0 star rating</td>\n",
       "      <td>(2.0)</td>\n",
       "    </tr>\n",
       "    <tr>\n",
       "      <th>4</th>\n",
       "      <td>The Factory - Cafe With a Soul</td>\n",
       "      <td>checkin located within northcross mall shoppin...</td>\n",
       "      <td>4.0</td>\n",
       "      <td>(checkin, located, within, northcross, mall, s...</td>\n",
       "      <td>68</td>\n",
       "      <td>4.0 star rating</td>\n",
       "      <td>(4.0)</td>\n",
       "    </tr>\n",
       "  </tbody>\n",
       "</table>\n",
       "</div>"
      ],
      "text/plain": [
       "                  coffee_shop_name  \\\n",
       "0  The Factory - Cafe With a Soul    \n",
       "1  The Factory - Cafe With a Soul    \n",
       "2  The Factory - Cafe With a Soul    \n",
       "3  The Factory - Cafe With a Soul    \n",
       "4  The Factory - Cafe With a Soul    \n",
       "\n",
       "                                    full_review_text star_rating  \\\n",
       "0  checkin love love loved atmosphere every corne...         5.0   \n",
       "1  listed date night austin ambiance austin beaut...         4.0   \n",
       "2  checkin listed brunch spots loved eclectic hom...         4.0   \n",
       "3  cool decor good drinks nice seating however ev...         2.0   \n",
       "4  checkin located within northcross mall shoppin...         4.0   \n",
       "\n",
       "                                                 doc  num_tokens  \\\n",
       "0  (checkin, love, love, loved, atmosphere, every...          49   \n",
       "1  (listed, date, night, austin, ambiance, austin...          26   \n",
       "2  (checkin, listed, brunch, spots, loved, eclect...         118   \n",
       "3  (cool, decor, good, drinks, nice, seating, how...          39   \n",
       "4  (checkin, located, within, northcross, mall, s...          68   \n",
       "\n",
       "          doc_rating rating_tokens  \n",
       "0   5.0 star rating          (5.0)  \n",
       "1   4.0 star rating          (4.0)  \n",
       "2   4.0 star rating          (4.0)  \n",
       "3   2.0 star rating          (2.0)  \n",
       "4   4.0 star rating          (4.0)  "
      ]
     },
     "execution_count": 88,
     "metadata": {},
     "output_type": "execute_result"
    }
   ],
   "source": [
    "df.head()"
   ]
  },
  {
   "cell_type": "code",
   "execution_count": 90,
   "metadata": {},
   "outputs": [
    {
     "data": {
      "text/plain": [
       "5.0    3780\n",
       "4.0    2360\n",
       "3.0     738\n",
       "2.0     460\n",
       "1.0     278\n",
       "Name: star_rating, dtype: int64"
      ]
     },
     "execution_count": 90,
     "metadata": {},
     "output_type": "execute_result"
    }
   ],
   "source": [
    "## distribution of ratings\n",
    "df['star_rating'].value_counts()"
   ]
  },
  {
   "cell_type": "code",
   "execution_count": 92,
   "metadata": {},
   "outputs": [
    {
     "data": {
      "text/plain": [
       "5.0    0.496324\n",
       "4.0    0.309874\n",
       "3.0    0.096901\n",
       "2.0    0.060399\n",
       "1.0    0.036502\n",
       "Name: star_rating, dtype: float64"
      ]
     },
     "execution_count": 92,
     "metadata": {},
     "output_type": "execute_result"
    }
   ],
   "source": [
    "import numpy as np\n",
    "df['star_rating'].value_counts(normalize=True)"
   ]
  },
  {
   "cell_type": "code",
   "execution_count": 96,
   "metadata": {},
   "outputs": [
    {
     "data": {
      "text/html": [
       "<div>\n",
       "<style scoped>\n",
       "    .dataframe tbody tr th:only-of-type {\n",
       "        vertical-align: middle;\n",
       "    }\n",
       "\n",
       "    .dataframe tbody tr th {\n",
       "        vertical-align: top;\n",
       "    }\n",
       "\n",
       "    .dataframe thead th {\n",
       "        text-align: right;\n",
       "    }\n",
       "</style>\n",
       "<table border=\"1\" class=\"dataframe\">\n",
       "  <thead>\n",
       "    <tr style=\"text-align: right;\">\n",
       "      <th></th>\n",
       "      <th>coffee_shop_name</th>\n",
       "      <th>full_review_text</th>\n",
       "      <th>star_rating</th>\n",
       "      <th>doc</th>\n",
       "      <th>num_tokens</th>\n",
       "      <th>doc_rating</th>\n",
       "      <th>rating_tokens</th>\n",
       "      <th>star_rating_numeric</th>\n",
       "    </tr>\n",
       "  </thead>\n",
       "  <tbody>\n",
       "    <tr>\n",
       "      <th>0</th>\n",
       "      <td>The Factory - Cafe With a Soul</td>\n",
       "      <td>checkin love love loved atmosphere every corne...</td>\n",
       "      <td>5.0</td>\n",
       "      <td>(checkin, love, love, loved, atmosphere, every...</td>\n",
       "      <td>49</td>\n",
       "      <td>5.0 star rating</td>\n",
       "      <td>(5.0)</td>\n",
       "      <td>5.0</td>\n",
       "    </tr>\n",
       "    <tr>\n",
       "      <th>1</th>\n",
       "      <td>The Factory - Cafe With a Soul</td>\n",
       "      <td>listed date night austin ambiance austin beaut...</td>\n",
       "      <td>4.0</td>\n",
       "      <td>(listed, date, night, austin, ambiance, austin...</td>\n",
       "      <td>26</td>\n",
       "      <td>4.0 star rating</td>\n",
       "      <td>(4.0)</td>\n",
       "      <td>4.0</td>\n",
       "    </tr>\n",
       "    <tr>\n",
       "      <th>2</th>\n",
       "      <td>The Factory - Cafe With a Soul</td>\n",
       "      <td>checkin listed brunch spots loved eclectic hom...</td>\n",
       "      <td>4.0</td>\n",
       "      <td>(checkin, listed, brunch, spots, loved, eclect...</td>\n",
       "      <td>118</td>\n",
       "      <td>4.0 star rating</td>\n",
       "      <td>(4.0)</td>\n",
       "      <td>4.0</td>\n",
       "    </tr>\n",
       "    <tr>\n",
       "      <th>3</th>\n",
       "      <td>The Factory - Cafe With a Soul</td>\n",
       "      <td>cool decor good drinks nice seating however ev...</td>\n",
       "      <td>2.0</td>\n",
       "      <td>(cool, decor, good, drinks, nice, seating, how...</td>\n",
       "      <td>39</td>\n",
       "      <td>2.0 star rating</td>\n",
       "      <td>(2.0)</td>\n",
       "      <td>2.0</td>\n",
       "    </tr>\n",
       "    <tr>\n",
       "      <th>4</th>\n",
       "      <td>The Factory - Cafe With a Soul</td>\n",
       "      <td>checkin located within northcross mall shoppin...</td>\n",
       "      <td>4.0</td>\n",
       "      <td>(checkin, located, within, northcross, mall, s...</td>\n",
       "      <td>68</td>\n",
       "      <td>4.0 star rating</td>\n",
       "      <td>(4.0)</td>\n",
       "      <td>4.0</td>\n",
       "    </tr>\n",
       "  </tbody>\n",
       "</table>\n",
       "</div>"
      ],
      "text/plain": [
       "                  coffee_shop_name  \\\n",
       "0  The Factory - Cafe With a Soul    \n",
       "1  The Factory - Cafe With a Soul    \n",
       "2  The Factory - Cafe With a Soul    \n",
       "3  The Factory - Cafe With a Soul    \n",
       "4  The Factory - Cafe With a Soul    \n",
       "\n",
       "                                    full_review_text star_rating  \\\n",
       "0  checkin love love loved atmosphere every corne...         5.0   \n",
       "1  listed date night austin ambiance austin beaut...         4.0   \n",
       "2  checkin listed brunch spots loved eclectic hom...         4.0   \n",
       "3  cool decor good drinks nice seating however ev...         2.0   \n",
       "4  checkin located within northcross mall shoppin...         4.0   \n",
       "\n",
       "                                                 doc  num_tokens  \\\n",
       "0  (checkin, love, love, loved, atmosphere, every...          49   \n",
       "1  (listed, date, night, austin, ambiance, austin...          26   \n",
       "2  (checkin, listed, brunch, spots, loved, eclect...         118   \n",
       "3  (cool, decor, good, drinks, nice, seating, how...          39   \n",
       "4  (checkin, located, within, northcross, mall, s...          68   \n",
       "\n",
       "          doc_rating rating_tokens  star_rating_numeric  \n",
       "0   5.0 star rating          (5.0)                  5.0  \n",
       "1   4.0 star rating          (4.0)                  4.0  \n",
       "2   4.0 star rating          (4.0)                  4.0  \n",
       "3   2.0 star rating          (2.0)                  2.0  \n",
       "4   4.0 star rating          (4.0)                  4.0  "
      ]
     },
     "execution_count": 96,
     "metadata": {},
     "output_type": "execute_result"
    }
   ],
   "source": [
    "df['star_rating_numeric'] = pd.to_numeric(df['star_rating'],errors='coerce')\n",
    "df.head()"
   ]
  },
  {
   "cell_type": "code",
   "execution_count": 99,
   "metadata": {},
   "outputs": [
    {
     "name": "stderr",
     "output_type": "stream",
     "text": [
      "/opt/anaconda3/envs/U4-S1-NLP/lib/python3.7/site-packages/scipy/stats/stats.py:1713: FutureWarning: Using a non-tuple sequence for multidimensional indexing is deprecated; use `arr[tuple(seq)]` instead of `arr[seq]`. In the future this will be interpreted as an array index, `arr[np.array(seq)]`, which will result either in an error or a different result.\n",
      "  return np.add.reduce(sorted[indexer] * weights, axis=axis) / sumval\n"
     ]
    },
    {
     "data": {
      "image/png": "[encoded data removed]",
      "text/plain": [
       "<Figure size 432x288 with 1 Axes>"
      ]
     },
     "metadata": {
      "needs_background": "light"
     },
     "output_type": "display_data"
    }
   ],
   "source": [
    "g = sns.distplot(df.star_rating_numeric)"
   ]
  },
  {
   "cell_type": "markdown",
   "metadata": {},
   "source": [
    "## Can visualize the words with the greatest difference in counts between 'good' & 'bad'?\n",
    "\n",
    "Couple Notes: \n",
    "- Rel. freq. instead of absolute counts b/c of different numbers of reviews\n",
    "- Only look at the top 5-10 words with the greatest differences\n"
   ]
  },
  {
   "cell_type": "code",
   "execution_count": 102,
   "metadata": {},
   "outputs": [
    {
     "name": "stdout",
     "output_type": "stream",
     "text": [
      "(7616, 8)\n"
     ]
    }
   ],
   "source": [
    "print(df.shape)"
   ]
  },
  {
   "cell_type": "code",
   "execution_count": 104,
   "metadata": {},
   "outputs": [],
   "source": [
    "## separate higher reviews as 3 and up\n",
    "highly_reviewed = df[df['star_rating_numeric'] >= 3]"
   ]
  },
  {
   "cell_type": "code",
   "execution_count": 105,
   "metadata": {},
   "outputs": [],
   "source": [
    "## separate lower reviews as less than 3\n",
    "lowly_reviewed = df[df['star_rating_numeric'] < 3]"
   ]
  },
  {
   "cell_type": "code",
   "execution_count": 107,
   "metadata": {},
   "outputs": [
    {
     "name": "stdout",
     "output_type": "stream",
     "text": [
      "(6878, 8) (738, 8)\n"
     ]
    }
   ],
   "source": [
    "## print shapes\n",
    "print(highly_reviewed.shape, lowly_reviewed.shape)"
   ]
  },
  {
   "cell_type": "code",
   "execution_count": 110,
   "metadata": {},
   "outputs": [
    {
     "data": {
      "text/plain": [
       "True"
      ]
     },
     "execution_count": 110,
     "metadata": {},
     "output_type": "execute_result"
    }
   ],
   "source": [
    "## add rows together to ensure we didn't lose anything\n",
    "6878 + 738 == 7616"
   ]
  },
  {
   "cell_type": "code",
   "execution_count": 126,
   "metadata": {},
   "outputs": [
    {
     "data": {
      "text/html": [
       "<div>\n",
       "<style scoped>\n",
       "    .dataframe tbody tr th:only-of-type {\n",
       "        vertical-align: middle;\n",
       "    }\n",
       "\n",
       "    .dataframe tbody tr th {\n",
       "        vertical-align: top;\n",
       "    }\n",
       "\n",
       "    .dataframe thead th {\n",
       "        text-align: right;\n",
       "    }\n",
       "</style>\n",
       "<table border=\"1\" class=\"dataframe\">\n",
       "  <thead>\n",
       "    <tr style=\"text-align: right;\">\n",
       "      <th></th>\n",
       "      <th>coffee_shop_name</th>\n",
       "      <th>full_review_text</th>\n",
       "      <th>star_rating</th>\n",
       "      <th>doc</th>\n",
       "      <th>num_tokens</th>\n",
       "      <th>doc_rating</th>\n",
       "      <th>rating_tokens</th>\n",
       "      <th>star_rating_numeric</th>\n",
       "    </tr>\n",
       "  </thead>\n",
       "  <tbody>\n",
       "    <tr>\n",
       "      <th>0</th>\n",
       "      <td>The Factory - Cafe With a Soul</td>\n",
       "      <td>checkin love love loved atmosphere every corne...</td>\n",
       "      <td>5.0</td>\n",
       "      <td>(checkin, love, love, loved, atmosphere, every...</td>\n",
       "      <td>49</td>\n",
       "      <td>5.0 star rating</td>\n",
       "      <td>(5.0)</td>\n",
       "      <td>5.0</td>\n",
       "    </tr>\n",
       "    <tr>\n",
       "      <th>1</th>\n",
       "      <td>The Factory - Cafe With a Soul</td>\n",
       "      <td>listed date night austin ambiance austin beaut...</td>\n",
       "      <td>4.0</td>\n",
       "      <td>(listed, date, night, austin, ambiance, austin...</td>\n",
       "      <td>26</td>\n",
       "      <td>4.0 star rating</td>\n",
       "      <td>(4.0)</td>\n",
       "      <td>4.0</td>\n",
       "    </tr>\n",
       "    <tr>\n",
       "      <th>2</th>\n",
       "      <td>The Factory - Cafe With a Soul</td>\n",
       "      <td>checkin listed brunch spots loved eclectic hom...</td>\n",
       "      <td>4.0</td>\n",
       "      <td>(checkin, listed, brunch, spots, loved, eclect...</td>\n",
       "      <td>118</td>\n",
       "      <td>4.0 star rating</td>\n",
       "      <td>(4.0)</td>\n",
       "      <td>4.0</td>\n",
       "    </tr>\n",
       "    <tr>\n",
       "      <th>4</th>\n",
       "      <td>The Factory - Cafe With a Soul</td>\n",
       "      <td>checkin located within northcross mall shoppin...</td>\n",
       "      <td>4.0</td>\n",
       "      <td>(checkin, located, within, northcross, mall, s...</td>\n",
       "      <td>68</td>\n",
       "      <td>4.0 star rating</td>\n",
       "      <td>(4.0)</td>\n",
       "      <td>4.0</td>\n",
       "    </tr>\n",
       "    <tr>\n",
       "      <th>5</th>\n",
       "      <td>The Factory - Cafe With a Soul</td>\n",
       "      <td>checkin cute cafe think moment stepped really ...</td>\n",
       "      <td>4.0</td>\n",
       "      <td>(checkin, cute, cafe, think, moment, stepped, ...</td>\n",
       "      <td>99</td>\n",
       "      <td>4.0 star rating</td>\n",
       "      <td>(4.0)</td>\n",
       "      <td>4.0</td>\n",
       "    </tr>\n",
       "  </tbody>\n",
       "</table>\n",
       "</div>"
      ],
      "text/plain": [
       "                  coffee_shop_name  \\\n",
       "0  The Factory - Cafe With a Soul    \n",
       "1  The Factory - Cafe With a Soul    \n",
       "2  The Factory - Cafe With a Soul    \n",
       "4  The Factory - Cafe With a Soul    \n",
       "5  The Factory - Cafe With a Soul    \n",
       "\n",
       "                                    full_review_text star_rating  \\\n",
       "0  checkin love love loved atmosphere every corne...         5.0   \n",
       "1  listed date night austin ambiance austin beaut...         4.0   \n",
       "2  checkin listed brunch spots loved eclectic hom...         4.0   \n",
       "4  checkin located within northcross mall shoppin...         4.0   \n",
       "5  checkin cute cafe think moment stepped really ...         4.0   \n",
       "\n",
       "                                                 doc  num_tokens  \\\n",
       "0  (checkin, love, love, loved, atmosphere, every...          49   \n",
       "1  (listed, date, night, austin, ambiance, austin...          26   \n",
       "2  (checkin, listed, brunch, spots, loved, eclect...         118   \n",
       "4  (checkin, located, within, northcross, mall, s...          68   \n",
       "5  (checkin, cute, cafe, think, moment, stepped, ...          99   \n",
       "\n",
       "          doc_rating rating_tokens  star_rating_numeric  \n",
       "0   5.0 star rating          (5.0)                  5.0  \n",
       "1   4.0 star rating          (4.0)                  4.0  \n",
       "2   4.0 star rating          (4.0)                  4.0  \n",
       "4   4.0 star rating          (4.0)                  4.0  \n",
       "5   4.0 star rating          (4.0)                  4.0  "
      ]
     },
     "execution_count": 126,
     "metadata": {},
     "output_type": "execute_result"
    }
   ],
   "source": [
    "highly_reviewed.head()"
   ]
  },
  {
   "cell_type": "code",
   "execution_count": 133,
   "metadata": {},
   "outputs": [],
   "source": [
    "hr_token = ''\n",
    "for i in highly_reviewed['doc']:\n",
    "   hr_token += str(i)"
   ]
  },
  {
   "cell_type": "code",
   "execution_count": 151,
   "metadata": {},
   "outputs": [
    {
     "name": "stdout",
     "output_type": "stream",
     "text": [
      "[('coffee', 9121), ('place', 4560), ('good', 3459), ('great', 3442), ('like', 2576), ('get', 2093), ('really', 2029), ('austin', 2007), ('also', 1865), ('one', 1864)]\n"
     ]
    }
   ],
   "source": [
    "from collections import Counter\n",
    "split_it = hr_token.split()\n",
    "Counter = Counter(split_it)\n",
    "most_often = Counter.most_common(10)\n",
    "print(most_often)"
   ]
  },
  {
   "cell_type": "code",
   "execution_count": 152,
   "metadata": {},
   "outputs": [],
   "source": [
    "lr_token = ''\n",
    "for i in lowly_reviewed['doc']:\n",
    "    lr_token += str(i)"
   ]
  },
  {
   "cell_type": "code",
   "execution_count": 154,
   "metadata": {},
   "outputs": [
    {
     "name": "stdout",
     "output_type": "stream",
     "text": [
      "[('coffee', 930), ('place', 516), ('like', 452), ('good', 338), ('one', 336), ('get', 298), ('service', 260), ('time', 249), ('would', 240), ('food', 229)]\n"
     ]
    }
   ],
   "source": [
    "from collections import Counter\n",
    "split_it = lr_token.split()\n",
    "Counter = Counter(split_it)\n",
    "most_often = Counter.most_common(10)\n",
    "print(most_often)"
   ]
  },
  {
   "cell_type": "markdown",
   "metadata": {
    "colab_type": "text",
    "id": "1dCb1q8XphcP",
    "toc-hr-collapsed": true
   },
   "source": [
    "## Stretch Goals\n",
    "\n",
    "* Analyze another corpus of documents - such as Indeed.com job listings ;).\n",
    "* Play with the Spacy API to\n",
    " - Extract Named Entities\n",
    " - Extracting 'noun chunks'\n",
    " - Attempt Document Classification with just Spacy\n",
    " - *Note:* This [course](https://course.spacy.io/) will be of interesting in helping you with these stretch goals. \n",
    "* Try to build a plotly dash app with your text data \n",
    "\n"
   ]
  },
  {
   "cell_type": "code",
   "execution_count": null,
   "metadata": {},
   "outputs": [],
   "source": []
  }
 ],
 "metadata": {
  "colab": {
   "collapsed_sections": [],
   "name": "LS_DS_421_Text_Data_Assignment.ipynb",
   "provenance": [],
   "version": "0.3.2"
  },
  "kernelspec": {
   "display_name": "U4-S1-NLP",
   "language": "python",
   "name": "u4-s1-nlp"
  },
  "language_info": {
   "codemirror_mode": {
    "name": "ipython",
    "version": 3
   },
   "file_extension": ".py",
   "mimetype": "text/x-python",
   "name": "python",
   "nbconvert_exporter": "python",
   "pygments_lexer": "ipython3",
   "version": "3.7.0"
  },
  "toc-autonumbering": false
 },
 "nbformat": 4,
 "nbformat_minor": 4
}
